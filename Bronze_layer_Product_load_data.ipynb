{
 "cells": [
  {
   "cell_type": "code",
   "execution_count": 0,
   "metadata": {
    "application/vnd.databricks.v1+cell": {
     "cellMetadata": {
      "byteLimit": 2048000,
      "rowLimit": 10000
     },
     "inputWidgets": {},
     "nuid": "dc5e10c6-eb7d-4933-bf7e-0fdcea8a8230",
     "showTitle": false,
     "tableResultSettingsMap": {},
     "title": ""
    }
   },
   "outputs": [],
   "source": [
    "%python\n",
    "# Define the file path\n",
    "filePath = \"/Volumes/workspace/globalretail/products\"\n",
    "\n",
    "# Read the JSON file into a DataFrame\n",
    "df = spark.read.json(filePath)\n",
    "\n",
    "# Display the DataFrame\n",
    "display(df)"
   ]
  },
  {
   "cell_type": "code",
   "execution_count": 0,
   "metadata": {
    "application/vnd.databricks.v1+cell": {
     "cellMetadata": {
      "byteLimit": 2048000,
      "rowLimit": 10000
     },
     "inputWidgets": {},
     "nuid": "bcfcde8b-6335-4dd8-a0e6-de9d3ac163dd",
     "showTitle": false,
     "tableResultSettingsMap": {},
     "title": ""
    }
   },
   "outputs": [],
   "source": [
    "from pyspark.sql.functions import current_timestamp\n",
    "df_new = df.withColumn(\"ingestion_timestamp\", current_timestamp())\n",
    "display(df_new)"
   ]
  },
  {
   "cell_type": "code",
   "execution_count": 0,
   "metadata": {
    "application/vnd.databricks.v1+cell": {
     "cellMetadata": {
      "byteLimit": 2048000,
      "rowLimit": 10000
     },
     "inputWidgets": {},
     "nuid": "218660bb-8746-4a3a-a377-d5f8d7b31268",
     "showTitle": false,
     "tableResultSettingsMap": {},
     "title": ""
    }
   },
   "outputs": [],
   "source": [
    "spark.sql(\"use globalretail_bronze\")\n",
    "df_new.write.format(\"delta\").mode(\"append\").saveAsTable(\"bronze_products\")"
   ]
  },
  {
   "cell_type": "code",
   "execution_count": 0,
   "metadata": {
    "application/vnd.databricks.v1+cell": {
     "cellMetadata": {
      "byteLimit": 2048000,
      "rowLimit": 10000
     },
     "inputWidgets": {},
     "nuid": "7a79beaf-b77b-4b95-a145-8f02d80d2469",
     "showTitle": false,
     "tableResultSettingsMap": {},
     "title": ""
    }
   },
   "outputs": [],
   "source": [
    "spark.sql(\"select * from bronze_products limit 100\").show()"
   ]
  },
  {
   "cell_type": "code",
   "execution_count": 0,
   "metadata": {
    "application/vnd.databricks.v1+cell": {
     "cellMetadata": {
      "byteLimit": 2048000,
      "rowLimit": 10000
     },
     "inputWidgets": {},
     "nuid": "35ca5f99-f2ca-474c-8c1e-2f0d31e8f564",
     "showTitle": false,
     "tableResultSettingsMap": {},
     "title": ""
    }
   },
   "outputs": [],
   "source": [
    "%python\n",
    "# Create the volume if it does not exist\n",
    "spark.sql(\"\"\"\n",
    "CREATE VOLUME IF NOT EXISTS workspace.globalretail.archive\n",
    "COMMENT 'Archive volume for products data'\n",
    "\"\"\")\n",
    "\n",
    "import datetime\n",
    "\n",
    "# Define the source and archive paths\n",
    "source_file = \"/Volumes/workspace/globalretail/products/\"\n",
    "archive_folder = \"/Volumes/workspace/globalretail/archive\"\n",
    "timestamp = datetime.datetime.now().strftime(\"%Y%m%d%H%M%S\")\n",
    "archive_file = f\"{archive_folder}/products_{timestamp}.csv\"\n",
    "\n",
    "# Move the file from the original path to the new archive path\n",
    "dbutils.fs.mv(source_file, archive_file, recurse=True)\n",
    "\n",
    "# Print the new archive file path\n",
    "print(f\"File archived at: {archive_file}\")"
   ]
  }
 ],
 "metadata": {
  "application/vnd.databricks.v1+notebook": {
   "computePreferences": null,
   "dashboards": [],
   "environmentMetadata": {
    "base_environment": "",
    "environment_version": "2"
   },
   "language": "python",
   "notebookMetadata": {
    "pythonIndentUnit": 4
   },
   "notebookName": "Bronze_layer_Product_load_data",
   "widgets": {}
  },
  "language_info": {
   "name": "python"
  }
 },
 "nbformat": 4,
 "nbformat_minor": 0
}
