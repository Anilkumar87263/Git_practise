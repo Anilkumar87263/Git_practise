{
 "cells": [
  {
   "cell_type": "code",
   "execution_count": 0,
   "metadata": {
    "application/vnd.databricks.v1+cell": {
     "cellMetadata": {
      "byteLimit": 2048000,
      "rowLimit": 10000
     },
     "inputWidgets": {},
     "nuid": "a47c86fe-0fe8-4f1a-acc1-4adba62cd009",
     "showTitle": false,
     "tableResultSettingsMap": {},
     "title": ""
    }
   },
   "outputs": [],
   "source": [
    "%python\n",
    "sales_df_path = \"/Volumes/workspace/retail_project/sales_store_data/sales_data.csv\"\n",
    "\n",
    "sales_df = spark.read.format(\"csv\").option(\"header\", \"true\").option(\"inferschema\", \"true\").load(sales_df_path)\n",
    "\n",
    "display(sales_df)"
   ]
  },
  {
   "cell_type": "code",
   "execution_count": 0,
   "metadata": {
    "application/vnd.databricks.v1+cell": {
     "cellMetadata": {
      "byteLimit": 2048000,
      "rowLimit": 10000
     },
     "inputWidgets": {},
     "nuid": "fe403570-83e6-4f72-ae14-11fd1e41d4f5",
     "showTitle": false,
     "tableResultSettingsMap": {},
     "title": ""
    }
   },
   "outputs": [],
   "source": [
    "%python\n",
    "from pyspark.sql.functions import col, to_date\n",
    "\n",
    "sales_df = sales_df.fillna({\"quantity\": 0, \"total_amount\": 0})\n",
    "sales_df = sales_df.dropDuplicates()\n",
    "sales_df = sales_df.filter(col(\"sale_id\").isNotNull() & col(\"store_id\").isNotNull() & col(\"sale_date\").isNotNull())\n",
    "sales_df = sales_df.filter((col(\"quantity\") >= 0) & (col(\"total_amount\") >= 0))\n",
    "\n",
    "display(sales_df)"
   ]
  },
  {
   "cell_type": "code",
   "execution_count": 0,
   "metadata": {
    "application/vnd.databricks.v1+cell": {
     "cellMetadata": {
      "byteLimit": 2048000,
      "rowLimit": 10000
     },
     "inputWidgets": {},
     "nuid": "73bf5756-2f72-453e-ac8d-d3e1bc5d353f",
     "showTitle": false,
     "tableResultSettingsMap": {},
     "title": ""
    }
   },
   "outputs": [],
   "source": [
    "%python\n",
    "store_df_path = \"/Volumes/workspace/retail_project/sales_store_data/store_data.csv\"\n",
    "\n",
    "store_df = spark.read.format(\"csv\").option(\"header\", \"true\").option(\"inferschema\", \"true\").load(store_df_path)\n",
    "\n",
    "display(store_df)"
   ]
  },
  {
   "cell_type": "code",
   "execution_count": 0,
   "metadata": {
    "application/vnd.databricks.v1+cell": {
     "cellMetadata": {
      "byteLimit": 2048000,
      "rowLimit": 10000
     },
     "inputWidgets": {},
     "nuid": "7bb0a901-35c7-49f5-8bf1-c17f1aa73742",
     "showTitle": false,
     "tableResultSettingsMap": {},
     "title": ""
    }
   },
   "outputs": [],
   "source": [
    "from pyspark.sql.functions import avg\n",
    "\n",
    "store_df = store_df.filter(col(\"store_id\").isNotNull() & col(\"open_date\").isNotNull())\n",
    "avg_store_size = store_df.select(avg(\"store_size\")).first()[0]\n",
    "print(avg_store_size)\n",
    "store_df = store_df.fillna({\"store_size\": avg_store_size})\n",
    "display(store_df)"
   ]
  },
  {
   "cell_type": "code",
   "execution_count": 0,
   "metadata": {
    "application/vnd.databricks.v1+cell": {
     "cellMetadata": {
      "byteLimit": 2048000,
      "rowLimit": 10000
     },
     "inputWidgets": {},
     "nuid": "062fd24c-3c63-4b50-8702-f139c2b52771",
     "showTitle": false,
     "tableResultSettingsMap": {},
     "title": ""
    }
   },
   "outputs": [],
   "source": [
    "combined_df = sales_df.join(store_df, on=\"store_id\", how=\"inner\")\n",
    "\n",
    "display(combined_df)"
   ]
  },
  {
   "cell_type": "code",
   "execution_count": 0,
   "metadata": {
    "application/vnd.databricks.v1+cell": {
     "cellMetadata": {
      "byteLimit": 2048000,
      "rowLimit": 10000
     },
     "inputWidgets": {},
     "nuid": "ea278c0d-1e05-424a-a058-4f2dfbad7838",
     "showTitle": false,
     "tableResultSettingsMap": {},
     "title": ""
    }
   },
   "outputs": [],
   "source": [
    "from pyspark.sql.functions import year, col, round\n",
    "\n",
    "combined_df = combined_df.withColumn(\"year\", year(col(\"sale_date\")))\n",
    "combined_df = combined_df.withColumn(\"sales_per_sqft\", round(col(\"total_amount\") / col(\"store_size\"), 2))\n",
    "\n",
    "display(combined_df)"
   ]
  },
  {
   "cell_type": "code",
   "execution_count": 0,
   "metadata": {
    "application/vnd.databricks.v1+cell": {
     "cellMetadata": {
      "byteLimit": 2048000,
      "rowLimit": 10000
     },
     "inputWidgets": {},
     "nuid": "3cecce13-f3e4-4b63-a134-479f61fb67e9",
     "showTitle": false,
     "tableResultSettingsMap": {},
     "title": ""
    }
   },
   "outputs": [],
   "source": [
    "%python\n",
    "combined_df.createOrReplaceTempView(\"combined\")\n",
    "store_sales_sql = spark.sql(\"\"\"\n",
    "    SELECT\n",
    "        store_id,\n",
    "        store_region,\n",
    "        SUM(CAST(total_amount AS DOUBLE)) as total_sales,\n",
    "        SUM(CAST(quantity AS INT)) as total_quantity\n",
    "    FROM combined\n",
    "    GROUP BY store_id, store_region\n",
    "\"\"\")\n",
    "\n",
    "display(store_sales_sql)"
   ]
  },
  {
   "cell_type": "code",
   "execution_count": 0,
   "metadata": {
    "application/vnd.databricks.v1+cell": {
     "cellMetadata": {
      "byteLimit": 2048000,
      "rowLimit": 10000
     },
     "inputWidgets": {},
     "nuid": "c050be27-e72c-4e28-9c95-6d615895f30d",
     "showTitle": false,
     "tableResultSettingsMap": {},
     "title": ""
    }
   },
   "outputs": [],
   "source": [
    "top_products_sql = spark.sql(\"\"\"\n",
    "    SELECT \n",
    "        product_id,\n",
    "        SUM(quantity) AS total_quantity\n",
    "        FROM combined\n",
    "        GROUP BY product_id\n",
    "        ORDER BY total_quantity DESC\n",
    "        LIMIT 5\n",
    "\"\"\")\n",
    "\n",
    "display(top_products_sql)"
   ]
  },
  {
   "cell_type": "code",
   "execution_count": 0,
   "metadata": {
    "application/vnd.databricks.v1+cell": {
     "cellMetadata": {
      "byteLimit": 2048000,
      "rowLimit": 10000
     },
     "inputWidgets": {},
     "nuid": "eb923f3f-3da1-40e5-938e-cb04b1b75529",
     "showTitle": false,
     "tableResultSettingsMap": {},
     "title": ""
    }
   },
   "outputs": [],
   "source": [
    "%python\n",
    "store_sales_sql.createOrReplaceTempView(\"store_sales\")\n",
    "top_store = spark.sql(\"\"\"\n",
    "    SELECT store_id, total_sales \n",
    "    FROM store_sales \n",
    "    ORDER BY total_sales DESC \n",
    "    LIMIT 5\n",
    "\"\"\")\n",
    "\n",
    "display(top_store)"
   ]
  },
  {
   "cell_type": "code",
   "execution_count": 0,
   "metadata": {
    "application/vnd.databricks.v1+cell": {
     "cellMetadata": {
      "byteLimit": 2048000,
      "rowLimit": 10000
     },
     "inputWidgets": {},
     "nuid": "d54d4e0a-c255-4fcb-8ddd-dc89977eb429",
     "showTitle": false,
     "tableResultSettingsMap": {},
     "title": ""
    }
   },
   "outputs": [],
   "source": [
    "top_products_sql.write.parquet(\"/Volumes/workspace/retail_project/sales_store_data/top_products_parquet\")\n",
    "top_store.write.parquet(\"/Volumes/workspace/retail_project/sales_store_data/top_store_parquet\")"
   ]
  }
 ],
 "metadata": {
  "application/vnd.databricks.v1+notebook": {
   "computePreferences": null,
   "dashboards": [],
   "environmentMetadata": {
    "base_environment": "",
    "environment_version": "2"
   },
   "language": "python",
   "notebookMetadata": {
    "pythonIndentUnit": 4
   },
   "notebookName": "Retail_project",
   "widgets": {}
  },
  "language_info": {
   "name": "python"
  }
 },
 "nbformat": 4,
 "nbformat_minor": 0
}
